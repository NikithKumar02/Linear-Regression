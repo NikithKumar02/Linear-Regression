{
 "cells": [
  {
   "cell_type": "markdown",
   "id": "d36993ca",
   "metadata": {},
   "source": [
    "# VAC ASSIGNMENT\n",
    "# Domino Stock Data"
   ]
  },
  {
   "cell_type": "code",
   "execution_count": 7,
   "id": "a632abbf",
   "metadata": {},
   "outputs": [],
   "source": [
    "#import python libraries\n",
    "import pandas as pd\n",
    "import numpy as np\n",
    "from sklearn import metrics\n",
    "import matplotlib.pyplot as plt\n",
    "%matplotlib inline"
   ]
  },
  {
   "cell_type": "code",
   "execution_count": 9,
   "id": "196aad3e",
   "metadata": {},
   "outputs": [],
   "source": [
    "dataset = pd.read_csv('Dominos_Stock_Data.csv')"
   ]
  },
  {
   "cell_type": "code",
   "execution_count": 10,
   "id": "7a3fe420",
   "metadata": {},
   "outputs": [
    {
     "data": {
      "text/html": [
       "<div>\n",
       "<style scoped>\n",
       "    .dataframe tbody tr th:only-of-type {\n",
       "        vertical-align: middle;\n",
       "    }\n",
       "\n",
       "    .dataframe tbody tr th {\n",
       "        vertical-align: top;\n",
       "    }\n",
       "\n",
       "    .dataframe thead th {\n",
       "        text-align: right;\n",
       "    }\n",
       "</style>\n",
       "<table border=\"1\" class=\"dataframe\">\n",
       "  <thead>\n",
       "    <tr style=\"text-align: right;\">\n",
       "      <th></th>\n",
       "      <th>Date</th>\n",
       "      <th>Open</th>\n",
       "      <th>High</th>\n",
       "      <th>Low</th>\n",
       "      <th>Close</th>\n",
       "      <th>Adj Close</th>\n",
       "      <th>Volume</th>\n",
       "    </tr>\n",
       "  </thead>\n",
       "  <tbody>\n",
       "    <tr>\n",
       "      <th>0</th>\n",
       "      <td>2019-10-16</td>\n",
       "      <td>254.89</td>\n",
       "      <td>257.61</td>\n",
       "      <td>253.08</td>\n",
       "      <td>255.96</td>\n",
       "      <td>251.60</td>\n",
       "      <td>525200</td>\n",
       "    </tr>\n",
       "    <tr>\n",
       "      <th>1</th>\n",
       "      <td>2019-10-17</td>\n",
       "      <td>256.12</td>\n",
       "      <td>259.96</td>\n",
       "      <td>255.78</td>\n",
       "      <td>256.45</td>\n",
       "      <td>252.09</td>\n",
       "      <td>515100</td>\n",
       "    </tr>\n",
       "    <tr>\n",
       "      <th>2</th>\n",
       "      <td>2019-10-18</td>\n",
       "      <td>257.45</td>\n",
       "      <td>258.40</td>\n",
       "      <td>254.23</td>\n",
       "      <td>255.70</td>\n",
       "      <td>251.35</td>\n",
       "      <td>609900</td>\n",
       "    </tr>\n",
       "    <tr>\n",
       "      <th>3</th>\n",
       "      <td>2019-10-21</td>\n",
       "      <td>256.61</td>\n",
       "      <td>259.84</td>\n",
       "      <td>255.67</td>\n",
       "      <td>257.52</td>\n",
       "      <td>253.14</td>\n",
       "      <td>499600</td>\n",
       "    </tr>\n",
       "    <tr>\n",
       "      <th>4</th>\n",
       "      <td>2019-10-22</td>\n",
       "      <td>257.27</td>\n",
       "      <td>259.47</td>\n",
       "      <td>255.38</td>\n",
       "      <td>258.94</td>\n",
       "      <td>254.53</td>\n",
       "      <td>343100</td>\n",
       "    </tr>\n",
       "  </tbody>\n",
       "</table>\n",
       "</div>"
      ],
      "text/plain": [
       "         Date    Open    High     Low   Close  Adj Close  Volume\n",
       "0  2019-10-16  254.89  257.61  253.08  255.96     251.60  525200\n",
       "1  2019-10-17  256.12  259.96  255.78  256.45     252.09  515100\n",
       "2  2019-10-18  257.45  258.40  254.23  255.70     251.35  609900\n",
       "3  2019-10-21  256.61  259.84  255.67  257.52     253.14  499600\n",
       "4  2019-10-22  257.27  259.47  255.38  258.94     254.53  343100"
      ]
     },
     "execution_count": 10,
     "metadata": {},
     "output_type": "execute_result"
    }
   ],
   "source": [
    "dataset.head()"
   ]
  },
  {
   "cell_type": "code",
   "execution_count": 12,
   "id": "1d10005d",
   "metadata": {},
   "outputs": [],
   "source": [
    "dataset['Date'] = pd.to_datetime(dataset.Date)"
   ]
  },
  {
   "cell_type": "code",
   "execution_count": 13,
   "id": "8827f95c",
   "metadata": {},
   "outputs": [
    {
     "data": {
      "text/plain": [
       "(505, 7)"
      ]
     },
     "execution_count": 13,
     "metadata": {},
     "output_type": "execute_result"
    }
   ],
   "source": [
    "dataset.shape"
   ]
  },
  {
   "cell_type": "code",
   "execution_count": 14,
   "id": "df2e17e3",
   "metadata": {},
   "outputs": [],
   "source": [
    "dataset.drop('Adj Close', axis = 1, inplace = True)"
   ]
  },
  {
   "cell_type": "code",
   "execution_count": 15,
   "id": "8e1aba79",
   "metadata": {},
   "outputs": [
    {
     "data": {
      "text/html": [
       "<div>\n",
       "<style scoped>\n",
       "    .dataframe tbody tr th:only-of-type {\n",
       "        vertical-align: middle;\n",
       "    }\n",
       "\n",
       "    .dataframe tbody tr th {\n",
       "        vertical-align: top;\n",
       "    }\n",
       "\n",
       "    .dataframe thead th {\n",
       "        text-align: right;\n",
       "    }\n",
       "</style>\n",
       "<table border=\"1\" class=\"dataframe\">\n",
       "  <thead>\n",
       "    <tr style=\"text-align: right;\">\n",
       "      <th></th>\n",
       "      <th>Date</th>\n",
       "      <th>Open</th>\n",
       "      <th>High</th>\n",
       "      <th>Low</th>\n",
       "      <th>Close</th>\n",
       "      <th>Volume</th>\n",
       "    </tr>\n",
       "  </thead>\n",
       "  <tbody>\n",
       "    <tr>\n",
       "      <th>0</th>\n",
       "      <td>2019-10-16</td>\n",
       "      <td>254.89</td>\n",
       "      <td>257.61</td>\n",
       "      <td>253.08</td>\n",
       "      <td>255.96</td>\n",
       "      <td>525200</td>\n",
       "    </tr>\n",
       "    <tr>\n",
       "      <th>1</th>\n",
       "      <td>2019-10-17</td>\n",
       "      <td>256.12</td>\n",
       "      <td>259.96</td>\n",
       "      <td>255.78</td>\n",
       "      <td>256.45</td>\n",
       "      <td>515100</td>\n",
       "    </tr>\n",
       "    <tr>\n",
       "      <th>2</th>\n",
       "      <td>2019-10-18</td>\n",
       "      <td>257.45</td>\n",
       "      <td>258.40</td>\n",
       "      <td>254.23</td>\n",
       "      <td>255.70</td>\n",
       "      <td>609900</td>\n",
       "    </tr>\n",
       "    <tr>\n",
       "      <th>3</th>\n",
       "      <td>2019-10-21</td>\n",
       "      <td>256.61</td>\n",
       "      <td>259.84</td>\n",
       "      <td>255.67</td>\n",
       "      <td>257.52</td>\n",
       "      <td>499600</td>\n",
       "    </tr>\n",
       "    <tr>\n",
       "      <th>4</th>\n",
       "      <td>2019-10-22</td>\n",
       "      <td>257.27</td>\n",
       "      <td>259.47</td>\n",
       "      <td>255.38</td>\n",
       "      <td>258.94</td>\n",
       "      <td>343100</td>\n",
       "    </tr>\n",
       "  </tbody>\n",
       "</table>\n",
       "</div>"
      ],
      "text/plain": [
       "        Date    Open    High     Low   Close  Volume\n",
       "0 2019-10-16  254.89  257.61  253.08  255.96  525200\n",
       "1 2019-10-17  256.12  259.96  255.78  256.45  515100\n",
       "2 2019-10-18  257.45  258.40  254.23  255.70  609900\n",
       "3 2019-10-21  256.61  259.84  255.67  257.52  499600\n",
       "4 2019-10-22  257.27  259.47  255.38  258.94  343100"
      ]
     },
     "execution_count": 15,
     "metadata": {},
     "output_type": "execute_result"
    }
   ],
   "source": [
    "dataset.head()"
   ]
  },
  {
   "cell_type": "code",
   "execution_count": 16,
   "id": "66b89e48",
   "metadata": {},
   "outputs": [
    {
     "data": {
      "text/plain": [
       "Date      0\n",
       "Open      0\n",
       "High      0\n",
       "Low       0\n",
       "Close     0\n",
       "Volume    0\n",
       "dtype: int64"
      ]
     },
     "execution_count": 16,
     "metadata": {},
     "output_type": "execute_result"
    }
   ],
   "source": [
    "dataset.isnull().sum()"
   ]
  },
  {
   "cell_type": "code",
   "execution_count": 17,
   "id": "f8d47d0a",
   "metadata": {},
   "outputs": [
    {
     "data": {
      "text/plain": [
       "Date      False\n",
       "Open      False\n",
       "High      False\n",
       "Low       False\n",
       "Close     False\n",
       "Volume    False\n",
       "dtype: bool"
      ]
     },
     "execution_count": 17,
     "metadata": {},
     "output_type": "execute_result"
    }
   ],
   "source": [
    "dataset.isna().any()"
   ]
  },
  {
   "cell_type": "code",
   "execution_count": 18,
   "id": "8f3bbd1e",
   "metadata": {},
   "outputs": [
    {
     "name": "stdout",
     "output_type": "stream",
     "text": [
      "<class 'pandas.core.frame.DataFrame'>\n",
      "RangeIndex: 505 entries, 0 to 504\n",
      "Data columns (total 6 columns):\n",
      " #   Column  Non-Null Count  Dtype         \n",
      "---  ------  --------------  -----         \n",
      " 0   Date    505 non-null    datetime64[ns]\n",
      " 1   Open    505 non-null    float64       \n",
      " 2   High    505 non-null    float64       \n",
      " 3   Low     505 non-null    float64       \n",
      " 4   Close   505 non-null    float64       \n",
      " 5   Volume  505 non-null    int64         \n",
      "dtypes: datetime64[ns](1), float64(4), int64(1)\n",
      "memory usage: 23.8 KB\n"
     ]
    }
   ],
   "source": [
    "dataset.info()"
   ]
  },
  {
   "cell_type": "code",
   "execution_count": 19,
   "id": "95876737",
   "metadata": {},
   "outputs": [
    {
     "data": {
      "text/html": [
       "<div>\n",
       "<style scoped>\n",
       "    .dataframe tbody tr th:only-of-type {\n",
       "        vertical-align: middle;\n",
       "    }\n",
       "\n",
       "    .dataframe tbody tr th {\n",
       "        vertical-align: top;\n",
       "    }\n",
       "\n",
       "    .dataframe thead th {\n",
       "        text-align: right;\n",
       "    }\n",
       "</style>\n",
       "<table border=\"1\" class=\"dataframe\">\n",
       "  <thead>\n",
       "    <tr style=\"text-align: right;\">\n",
       "      <th></th>\n",
       "      <th>Open</th>\n",
       "      <th>High</th>\n",
       "      <th>Low</th>\n",
       "      <th>Close</th>\n",
       "      <th>Volume</th>\n",
       "    </tr>\n",
       "  </thead>\n",
       "  <tbody>\n",
       "    <tr>\n",
       "      <th>count</th>\n",
       "      <td>505.000000</td>\n",
       "      <td>505.000000</td>\n",
       "      <td>505.000000</td>\n",
       "      <td>505.000000</td>\n",
       "      <td>5.050000e+02</td>\n",
       "    </tr>\n",
       "    <tr>\n",
       "      <th>mean</th>\n",
       "      <td>385.391723</td>\n",
       "      <td>390.291347</td>\n",
       "      <td>380.870416</td>\n",
       "      <td>385.614693</td>\n",
       "      <td>6.996162e+05</td>\n",
       "    </tr>\n",
       "    <tr>\n",
       "      <th>std</th>\n",
       "      <td>67.485552</td>\n",
       "      <td>67.673877</td>\n",
       "      <td>67.327659</td>\n",
       "      <td>67.378659</td>\n",
       "      <td>5.993578e+05</td>\n",
       "    </tr>\n",
       "    <tr>\n",
       "      <th>min</th>\n",
       "      <td>254.890000</td>\n",
       "      <td>257.610000</td>\n",
       "      <td>253.080000</td>\n",
       "      <td>255.700000</td>\n",
       "      <td>1.843000e+05</td>\n",
       "    </tr>\n",
       "    <tr>\n",
       "      <th>25%</th>\n",
       "      <td>353.730000</td>\n",
       "      <td>360.580000</td>\n",
       "      <td>347.730000</td>\n",
       "      <td>354.620000</td>\n",
       "      <td>4.495000e+05</td>\n",
       "    </tr>\n",
       "    <tr>\n",
       "      <th>50%</th>\n",
       "      <td>384.600000</td>\n",
       "      <td>387.580000</td>\n",
       "      <td>380.910000</td>\n",
       "      <td>383.920000</td>\n",
       "      <td>5.776000e+05</td>\n",
       "    </tr>\n",
       "    <tr>\n",
       "      <th>75%</th>\n",
       "      <td>418.090000</td>\n",
       "      <td>423.110000</td>\n",
       "      <td>415.740000</td>\n",
       "      <td>419.700000</td>\n",
       "      <td>7.863000e+05</td>\n",
       "    </tr>\n",
       "    <tr>\n",
       "      <th>max</th>\n",
       "      <td>541.990000</td>\n",
       "      <td>548.720000</td>\n",
       "      <td>536.110000</td>\n",
       "      <td>540.470000</td>\n",
       "      <td>1.027880e+07</td>\n",
       "    </tr>\n",
       "  </tbody>\n",
       "</table>\n",
       "</div>"
      ],
      "text/plain": [
       "             Open        High         Low       Close        Volume\n",
       "count  505.000000  505.000000  505.000000  505.000000  5.050000e+02\n",
       "mean   385.391723  390.291347  380.870416  385.614693  6.996162e+05\n",
       "std     67.485552   67.673877   67.327659   67.378659  5.993578e+05\n",
       "min    254.890000  257.610000  253.080000  255.700000  1.843000e+05\n",
       "25%    353.730000  360.580000  347.730000  354.620000  4.495000e+05\n",
       "50%    384.600000  387.580000  380.910000  383.920000  5.776000e+05\n",
       "75%    418.090000  423.110000  415.740000  419.700000  7.863000e+05\n",
       "max    541.990000  548.720000  536.110000  540.470000  1.027880e+07"
      ]
     },
     "execution_count": 19,
     "metadata": {},
     "output_type": "execute_result"
    }
   ],
   "source": [
    "dataset.describe()"
   ]
  },
  {
   "cell_type": "code",
   "execution_count": 20,
   "id": "5d21cbd0",
   "metadata": {},
   "outputs": [
    {
     "data": {
      "text/plain": [
       "<AxesSubplot:>"
      ]
     },
     "execution_count": 20,
     "metadata": {},
     "output_type": "execute_result"
    },
    {
     "data": {
      "image/png": "[encoded data removed]",
      "text/plain": [
       "<Figure size 1296x504 with 1 Axes>"
      ]
     },
     "metadata": {
      "needs_background": "light"
     },
     "output_type": "display_data"
    }
   ],
   "source": [
    "dataset['Open'].plot(figsize=(18, 7))"
   ]
  },
  {
   "cell_type": "code",
   "execution_count": 22,
   "id": "7aeb70b4",
   "metadata": {},
   "outputs": [],
   "source": [
    "x = dataset[['Open', 'High', 'Low', 'Volume']]\n",
    "y = dataset['Close']"
   ]
  },
  {
   "cell_type": "code",
   "execution_count": 29,
   "id": "68307250",
   "metadata": {},
   "outputs": [],
   "source": [
    "from sklearn.model_selection import train_test_split\n",
    "x_train, x_test, y_train, y_test = train_test_split(x, y, random_state=0)"
   ]
  },
  {
   "cell_type": "code",
   "execution_count": 34,
   "id": "72b26aad",
   "metadata": {},
   "outputs": [
    {
     "data": {
      "text/plain": [
       "(378, 4)"
      ]
     },
     "execution_count": 34,
     "metadata": {},
     "output_type": "execute_result"
    }
   ],
   "source": [
    "x_train.shape"
   ]
  },
  {
   "cell_type": "code",
   "execution_count": 36,
   "id": "a257a8b2",
   "metadata": {},
   "outputs": [
    {
     "data": {
      "text/plain": [
       "(127, 4)"
      ]
     },
     "execution_count": 36,
     "metadata": {},
     "output_type": "execute_result"
    }
   ],
   "source": [
    "x_test.shape"
   ]
  },
  {
   "cell_type": "code",
   "execution_count": 38,
   "id": "a5f30987",
   "metadata": {},
   "outputs": [],
   "source": [
    "from sklearn.linear_model import LinearRegression\n",
    "from sklearn.metrics import confusion_matrix, accuracy_score\n",
    "regression = LinearRegression()"
   ]
  },
  {
   "cell_type": "code",
   "execution_count": 40,
   "id": "e7d775f9",
   "metadata": {},
   "outputs": [
    {
     "data": {
      "text/plain": [
       "LinearRegression()"
      ]
     },
     "execution_count": 40,
     "metadata": {},
     "output_type": "execute_result"
    }
   ],
   "source": [
    "regression.fit(x_train, y_train)"
   ]
  },
  {
   "cell_type": "code",
   "execution_count": 41,
   "id": "bf5471f8",
   "metadata": {},
   "outputs": [
    {
     "name": "stdout",
     "output_type": "stream",
     "text": [
      "[-5.02974777e-01  7.95076774e-01  7.05712906e-01 -2.73552390e-07]\n"
     ]
    }
   ],
   "source": [
    "print(regression.coef_)"
   ]
  },
  {
   "cell_type": "code",
   "execution_count": 42,
   "id": "392e3f83",
   "metadata": {},
   "outputs": [
    {
     "name": "stdout",
     "output_type": "stream",
     "text": [
      "0.6014236335823284\n"
     ]
    }
   ],
   "source": [
    "print(regression.intercept_)"
   ]
  },
  {
   "cell_type": "code",
   "execution_count": 52,
   "id": "ffef32c2",
   "metadata": {},
   "outputs": [],
   "source": [
    "predict = regression.predict(x_test)"
   ]
  },
  {
   "cell_type": "code",
   "execution_count": 54,
   "id": "443d26c3",
   "metadata": {},
   "outputs": [
    {
     "name": "stdout",
     "output_type": "stream",
     "text": [
      "       Open    High     Low   Volume\n",
      "90   371.87  377.33  366.38  1107200\n",
      "97   325.36  337.23  320.75   853400\n",
      "477  515.08  522.22  512.85   319200\n",
      "340  364.00  369.03  358.36   639000\n",
      "395  420.00  447.50  419.24  1772100\n",
      "..      ...     ...     ...      ...\n",
      "134  356.01  367.30  349.09   868000\n",
      "225  381.57  386.65  376.11   683100\n",
      "402  429.50  432.07  425.74   870900\n",
      "493  484.44  487.16  476.25   485500\n",
      "59   290.78  291.35  287.10   933400\n",
      "\n",
      "[127 rows x 4 columns]\n"
     ]
    }
   ],
   "source": [
    "print(x_test)"
   ]
  },
  {
   "cell_type": "code",
   "execution_count": 47,
   "id": "099e0f14",
   "metadata": {},
   "outputs": [
    {
     "data": {
      "text/plain": [
       "(127,)"
      ]
     },
     "execution_count": 47,
     "metadata": {},
     "output_type": "execute_result"
    }
   ],
   "source": [
    "predict.shape"
   ]
  },
  {
   "cell_type": "code",
   "execution_count": 55,
   "id": "fbc24bad",
   "metadata": {},
   "outputs": [],
   "source": [
    "dframe = pd.DataFrame(y_test, predict)"
   ]
  },
  {
   "cell_type": "code",
   "execution_count": 57,
   "id": "34bbd3c1",
   "metadata": {},
   "outputs": [],
   "source": [
    "dfr = pd.DataFrame({'Actual Price':y_test, 'Predicted Price':predict})"
   ]
  },
  {
   "cell_type": "code",
   "execution_count": 58,
   "id": "36648e13",
   "metadata": {},
   "outputs": [
    {
     "name": "stdout",
     "output_type": "stream",
     "text": [
      "     Actual Price  Predicted Price\n",
      "90         366.67       371.822730\n",
      "97         336.41       331.201256\n",
      "477        521.37       518.571715\n",
      "340        366.74       363.650264\n",
      "395        425.44       440.527191\n",
      "..            ...              ...\n",
      "134        362.01       359.688948\n",
      "225        376.32       381.336590\n",
      "402        427.65       428.314555\n",
      "493        476.96       480.232886\n",
      "59         289.09       288.346878\n",
      "\n",
      "[127 rows x 2 columns]\n"
     ]
    }
   ],
   "source": [
    "print(dfr)"
   ]
  },
  {
   "cell_type": "code",
   "execution_count": 59,
   "id": "24b7dd3c",
   "metadata": {},
   "outputs": [
    {
     "data": {
      "text/html": [
       "<div>\n",
       "<style scoped>\n",
       "    .dataframe tbody tr th:only-of-type {\n",
       "        vertical-align: middle;\n",
       "    }\n",
       "\n",
       "    .dataframe tbody tr th {\n",
       "        vertical-align: top;\n",
       "    }\n",
       "\n",
       "    .dataframe thead th {\n",
       "        text-align: right;\n",
       "    }\n",
       "</style>\n",
       "<table border=\"1\" class=\"dataframe\">\n",
       "  <thead>\n",
       "    <tr style=\"text-align: right;\">\n",
       "      <th></th>\n",
       "      <th>Actual Price</th>\n",
       "      <th>Predicted Price</th>\n",
       "    </tr>\n",
       "  </thead>\n",
       "  <tbody>\n",
       "    <tr>\n",
       "      <th>90</th>\n",
       "      <td>366.67</td>\n",
       "      <td>371.822730</td>\n",
       "    </tr>\n",
       "    <tr>\n",
       "      <th>97</th>\n",
       "      <td>336.41</td>\n",
       "      <td>331.201256</td>\n",
       "    </tr>\n",
       "    <tr>\n",
       "      <th>477</th>\n",
       "      <td>521.37</td>\n",
       "      <td>518.571715</td>\n",
       "    </tr>\n",
       "    <tr>\n",
       "      <th>340</th>\n",
       "      <td>366.74</td>\n",
       "      <td>363.650264</td>\n",
       "    </tr>\n",
       "    <tr>\n",
       "      <th>395</th>\n",
       "      <td>425.44</td>\n",
       "      <td>440.527191</td>\n",
       "    </tr>\n",
       "    <tr>\n",
       "      <th>15</th>\n",
       "      <td>277.82</td>\n",
       "      <td>275.901093</td>\n",
       "    </tr>\n",
       "    <tr>\n",
       "      <th>318</th>\n",
       "      <td>381.12</td>\n",
       "      <td>379.492780</td>\n",
       "    </tr>\n",
       "    <tr>\n",
       "      <th>399</th>\n",
       "      <td>432.86</td>\n",
       "      <td>438.835598</td>\n",
       "    </tr>\n",
       "    <tr>\n",
       "      <th>159</th>\n",
       "      <td>382.78</td>\n",
       "      <td>385.434909</td>\n",
       "    </tr>\n",
       "    <tr>\n",
       "      <th>153</th>\n",
       "      <td>373.97</td>\n",
       "      <td>369.699194</td>\n",
       "    </tr>\n",
       "    <tr>\n",
       "      <th>436</th>\n",
       "      <td>480.11</td>\n",
       "      <td>480.584168</td>\n",
       "    </tr>\n",
       "    <tr>\n",
       "      <th>253</th>\n",
       "      <td>399.45</td>\n",
       "      <td>399.094487</td>\n",
       "    </tr>\n",
       "    <tr>\n",
       "      <th>254</th>\n",
       "      <td>394.89</td>\n",
       "      <td>395.284739</td>\n",
       "    </tr>\n",
       "    <tr>\n",
       "      <th>219</th>\n",
       "      <td>415.98</td>\n",
       "      <td>416.086668</td>\n",
       "    </tr>\n",
       "    <tr>\n",
       "      <th>171</th>\n",
       "      <td>384.63</td>\n",
       "      <td>383.971048</td>\n",
       "    </tr>\n",
       "    <tr>\n",
       "      <th>298</th>\n",
       "      <td>397.18</td>\n",
       "      <td>394.567755</td>\n",
       "    </tr>\n",
       "    <tr>\n",
       "      <th>473</th>\n",
       "      <td>515.40</td>\n",
       "      <td>511.727581</td>\n",
       "    </tr>\n",
       "    <tr>\n",
       "      <th>194</th>\n",
       "      <td>386.91</td>\n",
       "      <td>383.217293</td>\n",
       "    </tr>\n",
       "    <tr>\n",
       "      <th>154</th>\n",
       "      <td>365.55</td>\n",
       "      <td>367.512000</td>\n",
       "    </tr>\n",
       "    <tr>\n",
       "      <th>37</th>\n",
       "      <td>286.37</td>\n",
       "      <td>286.968030</td>\n",
       "    </tr>\n",
       "    <tr>\n",
       "      <th>208</th>\n",
       "      <td>399.04</td>\n",
       "      <td>396.519566</td>\n",
       "    </tr>\n",
       "    <tr>\n",
       "      <th>385</th>\n",
       "      <td>403.95</td>\n",
       "      <td>405.536946</td>\n",
       "    </tr>\n",
       "    <tr>\n",
       "      <th>463</th>\n",
       "      <td>525.62</td>\n",
       "      <td>530.209562</td>\n",
       "    </tr>\n",
       "    <tr>\n",
       "      <th>108</th>\n",
       "      <td>323.87</td>\n",
       "      <td>319.264491</td>\n",
       "    </tr>\n",
       "    <tr>\n",
       "      <th>45</th>\n",
       "      <td>292.00</td>\n",
       "      <td>290.902942</td>\n",
       "    </tr>\n",
       "    <tr>\n",
       "      <th>403</th>\n",
       "      <td>420.90</td>\n",
       "      <td>425.805285</td>\n",
       "    </tr>\n",
       "    <tr>\n",
       "      <th>21</th>\n",
       "      <td>278.66</td>\n",
       "      <td>279.615898</td>\n",
       "    </tr>\n",
       "    <tr>\n",
       "      <th>375</th>\n",
       "      <td>390.64</td>\n",
       "      <td>390.626253</td>\n",
       "    </tr>\n",
       "    <tr>\n",
       "      <th>96</th>\n",
       "      <td>333.03</td>\n",
       "      <td>333.366462</td>\n",
       "    </tr>\n",
       "    <tr>\n",
       "      <th>236</th>\n",
       "      <td>413.54</td>\n",
       "      <td>415.951728</td>\n",
       "    </tr>\n",
       "  </tbody>\n",
       "</table>\n",
       "</div>"
      ],
      "text/plain": [
       "     Actual Price  Predicted Price\n",
       "90         366.67       371.822730\n",
       "97         336.41       331.201256\n",
       "477        521.37       518.571715\n",
       "340        366.74       363.650264\n",
       "395        425.44       440.527191\n",
       "15         277.82       275.901093\n",
       "318        381.12       379.492780\n",
       "399        432.86       438.835598\n",
       "159        382.78       385.434909\n",
       "153        373.97       369.699194\n",
       "436        480.11       480.584168\n",
       "253        399.45       399.094487\n",
       "254        394.89       395.284739\n",
       "219        415.98       416.086668\n",
       "171        384.63       383.971048\n",
       "298        397.18       394.567755\n",
       "473        515.40       511.727581\n",
       "194        386.91       383.217293\n",
       "154        365.55       367.512000\n",
       "37         286.37       286.968030\n",
       "208        399.04       396.519566\n",
       "385        403.95       405.536946\n",
       "463        525.62       530.209562\n",
       "108        323.87       319.264491\n",
       "45         292.00       290.902942\n",
       "403        420.90       425.805285\n",
       "21         278.66       279.615898\n",
       "375        390.64       390.626253\n",
       "96         333.03       333.366462\n",
       "236        413.54       415.951728"
      ]
     },
     "execution_count": 59,
     "metadata": {},
     "output_type": "execute_result"
    }
   ],
   "source": [
    "dfr.head(30)"
   ]
  },
  {
   "cell_type": "code",
   "execution_count": 60,
   "id": "778f2b7b",
   "metadata": {},
   "outputs": [],
   "source": [
    "from sklearn.metrics import confusion_matrix, accuracy_score"
   ]
  },
  {
   "cell_type": "code",
   "execution_count": 61,
   "id": "eff7079c",
   "metadata": {},
   "outputs": [
    {
     "data": {
      "text/plain": [
       "0.9972563178859308"
      ]
     },
     "execution_count": 61,
     "metadata": {},
     "output_type": "execute_result"
    }
   ],
   "source": [
    "regression.score(x_test, y_test)"
   ]
  },
  {
   "cell_type": "code",
   "execution_count": 62,
   "id": "af8e938c",
   "metadata": {},
   "outputs": [],
   "source": [
    "import math"
   ]
  },
  {
   "cell_type": "code",
   "execution_count": 63,
   "id": "f3651d90",
   "metadata": {},
   "outputs": [
    {
     "name": "stdout",
     "output_type": "stream",
     "text": [
      "Mean Absolute Error: 2.2674858486589082\n"
     ]
    }
   ],
   "source": [
    "print('Mean Absolute Error:', metrics.mean_absolute_error(y_test, predict))"
   ]
  },
  {
   "cell_type": "code",
   "execution_count": 64,
   "id": "d462d18e",
   "metadata": {},
   "outputs": [
    {
     "name": "stdout",
     "output_type": "stream",
     "text": [
      "Mean Squared Error: 11.357604487072631\n"
     ]
    }
   ],
   "source": [
    "print('Mean Squared Error:', metrics.mean_squared_error(y_test, predict))"
   ]
  },
  {
   "cell_type": "code",
   "execution_count": 65,
   "id": "0c25e630",
   "metadata": {},
   "outputs": [
    {
     "name": "stdout",
     "output_type": "stream",
     "text": [
      "Root Mean Absolute Error: 1.5058173357545424\n"
     ]
    }
   ],
   "source": [
    "print('Root Mean Absolute Error:', math.sqrt(metrics.mean_absolute_error(y_test, predict)))"
   ]
  },
  {
   "cell_type": "code",
   "execution_count": 66,
   "id": "6b49df3f",
   "metadata": {},
   "outputs": [],
   "source": [
    "graph = dfr.head(25)"
   ]
  },
  {
   "cell_type": "code",
   "execution_count": 68,
   "id": "7e36307b",
   "metadata": {},
   "outputs": [
    {
     "data": {
      "text/plain": [
       "<AxesSubplot:>"
      ]
     },
     "execution_count": 68,
     "metadata": {},
     "output_type": "execute_result"
    },
    {
     "data": {
      "image/png": "[encoded data removed]",
      "text/plain": [
       "<Figure size 1152x504 with 1 Axes>"
      ]
     },
     "metadata": {
      "needs_background": "light"
     },
     "output_type": "display_data"
    }
   ],
   "source": [
    "graph.plot(kind='bar', figsize=(16, 7))"
   ]
  },
  {
   "cell_type": "code",
   "execution_count": null,
   "id": "d38dc2e9",
   "metadata": {},
   "outputs": [],
   "source": []
  }
 ],
 "metadata": {
  "kernelspec": {
   "display_name": "Python 3",
   "language": "python",
   "name": "python3"
  },
  "language_info": {
   "codemirror_mode": {
    "name": "ipython",
    "version": 3
   },
   "file_extension": ".py",
   "mimetype": "text/x-python",
   "name": "python",
   "nbconvert_exporter": "python",
   "pygments_lexer": "ipython3",
   "version": "3.8.8"
  }
 },
 "nbformat": 4,
 "nbformat_minor": 5
}
